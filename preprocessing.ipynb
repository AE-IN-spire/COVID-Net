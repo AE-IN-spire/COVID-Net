{
 "cells": [
  {
   "cell_type": "code",
   "execution_count": 16,
   "metadata": {},
   "outputs": [],
   "source": [
    "import cv2\n",
    "import keras\n",
    "import numpy as np\n",
    "import matplotlib.pyplot as plt\n",
    "import os"
   ]
  },
  {
   "cell_type": "code",
   "execution_count": 61,
   "metadata": {},
   "outputs": [],
   "source": [
    "INPUT_SIZE = (224, 224)\n",
    "mapping = {'normal': 0, 'bacteria': 1, 'viral': 2, 'COVID-19': 3}"
   ]
  },
  {
   "cell_type": "code",
   "execution_count": 13,
   "metadata": {},
   "outputs": [],
   "source": [
    "train_filepath = 'train_split.txt'\n",
    "test_filepath = 'test_split.txt'\n",
    "\n",
    "file = open(train_filepath, 'r') \n",
    "trainfiles = file.readlines() \n",
    "file = open(test_filepath, 'r')\n",
    "testfiles = file.readlines()"
   ]
  },
  {
   "cell_type": "code",
   "execution_count": 14,
   "metadata": {},
   "outputs": [
    {
     "name": "stdout",
     "output_type": "stream",
     "text": [
      "5304\n",
      "637\n"
     ]
    }
   ],
   "source": [
    "print(len(trainfiles))\n",
    "print(len(testfiles))"
   ]
  },
  {
   "cell_type": "code",
   "execution_count": 62,
   "metadata": {},
   "outputs": [
    {
     "name": "stdout",
     "output_type": "stream",
     "text": [
      "(224, 224, 3)\n",
      "(224, 224, 3)\n"
     ]
    }
   ],
   "source": [
    "x_train = []\n",
    "x_test = []\n",
    "y_train = []\n",
    "y_test = []\n",
    "\n",
    "for i in range(len(testfiles)):\n",
    "    test_i = testfiles[i].split()\n",
    "    imgpath = test_i[1]\n",
    "    img = cv2.imread(os.path.join('data', 'test', imgpath))\n",
    "    img = cv2.resize(img, INPUT_SIZE) # resize\n",
    "    img = img.astype('float32') / 255.0\n",
    "    x_test.append(img)\n",
    "    y_test.append(mapping[test_i[2]])\n",
    "\n",
    "print(x_test[0].shape)\n",
    "\n",
    "for i in range(len(trainfiles)):\n",
    "    train_i = trainfiles[i].split()\n",
    "    imgpath = train_i[1]\n",
    "    img = cv2.imread(os.path.join('data', 'train', imgpath))\n",
    "    img = cv2.resize(img, INPUT_SIZE) # resize\n",
    "    img = img.astype('float32') / 255.0\n",
    "    x_train.append(img)\n",
    "    y_train.append(mapping[train_i[2]])\n",
    "\n",
    "print(x_train[0].shape)"
   ]
  },
  {
   "cell_type": "code",
   "execution_count": 63,
   "metadata": {},
   "outputs": [],
   "source": [
    "# export\n",
    "np.save('data/x_train.npy', x_train)\n",
    "np.save('data/y_train.npy', y_train)\n",
    "np.save('data/x_test.npy', x_test)\n",
    "np.save('data/y_test.npy', y_test)"
   ]
  },
  {
   "cell_type": "code",
   "execution_count": null,
   "metadata": {},
   "outputs": [],
   "source": []
  }
 ],
 "metadata": {
  "kernelspec": {
   "display_name": "Python (tf1.15)",
   "language": "python",
   "name": "tf1.15"
  },
  "language_info": {
   "codemirror_mode": {
    "name": "ipython",
    "version": 3
   },
   "file_extension": ".py",
   "mimetype": "text/x-python",
   "name": "python",
   "nbconvert_exporter": "python",
   "pygments_lexer": "ipython3",
   "version": "3.6.10"
  }
 },
 "nbformat": 4,
 "nbformat_minor": 2
}
